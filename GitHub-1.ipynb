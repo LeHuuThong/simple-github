{
 "cells": [
  {
   "cell_type": "markdown",
   "metadata": {},
   "source": [
    "# Git và github.\n",
    "\n",
    "### Khởi tạo repository trên Github\n",
    "![github](./reg.png)\n",
    "\n",
    "### Màn hình lần đầu trước khi đăng source code.\n",
    "![github](./first-source.png)\n"
   ]
  },
  {
   "cell_type": "markdown",
   "metadata": {},
   "source": [
    "#### Giải thích ý nghĩa từng câu lệnh.\n",
    "\n",
    "- **Bỏ qua dòng echo.**\n",
    "\n",
    "\n",
    "- **git init: Nghĩa là thêm folder lưu trữ version source code \".git\" vào ngay vị trí đường dẫn trong CMD-Terminal. ví dụ: pwd = /Users/Home/code thì gõ lệnh git init sẽ tạo ra folder ẩn như sau /Users/Home/code/.git. Folder .git này sẽ lưu trữ lại toàn bộ thay file trước khi thay đổi bất kì file nào trong thư mục /Users/Home/code.**\n",
    "\n",
    "\n",
    "- **git add \"f\": lưu lại toàn bộ thay đổi vào trong .git . \"f\" là đường dẫn tới file cần lưu lại thay đổi. Để lưu toàn bộ các file thì \"f\" = \".\" . Ví dụ vào lúc 19h cùng ngày ta bắt đầu .git và thay đổi 1 file.go bất kì trong source, sau khi git add file.go vào lúc 22h thì trong folder .git sẽ lưu lại 1 phiên bản của file.go đã thay đổi.**\n",
    "\n",
    "\n",
    "- **git commit -m \" something \": Đánh kí hiệu cho thay đổi. Với ví dụ trên, sau khi add thì .git sẽ tạo ra 1 version của file.go song song lúc 19h và 22h. Tuy nhiên sau khi gõ lệnh git commit -m \"\" thì nó sẽ lưu lại ngay phiên làm việc gần nhất của thay đổi là 22h, các version về sau sẽ tiếp tục so sánh với lúc 22h. Bên trong dấu \"\" là chuỗi đánh dấu, thường thì được đặt theo nội dung thay đổi và ký hiệu và thứ tự của dự án. Ví dụ ký hiệu là NEW_COMMER với thứ tự 5 thì thường sẽ commit như thế này: git commit -m \"NEW_COMMER-005: Update file.go and change something features\".**\n",
    "\n",
    "\n",
    "- **git branch -M \"branch\": Hiện tại chưa cần quan tâm.**\n",
    "\n",
    "\n",
    "- **git remote add \"name\" \"url\": Git chỉ là phần mềm quản lý source code trên máy tính, do đó vẫn cần 1 server lưu trữ để có thể mang source code đi xa mọi nơi. git remote add sẽ thêm vào 1 đường dẫn đến server lưu trữ source code, như hình ở trên là github.com, cũng là đường dẫn tới repository vừa mới tạo. \"name\" là tên đặt cho đường dẫn mà ta muốn lưu trên máy tính, vì có thể lưu rất nhiều đường dẫn khác nhau trên 1 thư mục chứa .git nên ta phải đặt tên cho từng đường dẫn để đỡ mất công ghi lại nguyên đường dẫn. Thông thường thì sẽ đặt là origin cho repository code chính.**\n",
    "\n",
    "\n",
    "- **git push -u origin \"branch\": Đăng toàn bộ những git đã commit lên nhánh \"branch\", thường thì cũng giống như việc đặt tên commit \"branch\" = \"tên dự án\"-\"thứ tự tác vụ\". Ví dụ : git push -u origin new_commer-005. có thể viết hoa hay viết thường đều được, nhưng lúc commit phải đúng với tên dự án đã đặt.**"
   ]
  },
  {
   "cell_type": "markdown",
   "metadata": {},
   "source": [
    "# Git và Github nâng cao.\n",
    "\n",
    "### Fork\n",
    "\n",
    "Vì trong dự án thực tế để tránh việc phá hoại source code khi 1 tập thể làm chung, mỗi người chỉ nên Fork dự án chính về github của bản thân, và origin thường sẽ là fork đó.\n",
    "![fork](./fork.png)\n",
    "\n",
    "Sau khi fork về github của mình thì mình sẽ có 1 url mới cho cái fork đó. Ở trên cũng đã đề cập mình sẽ remote add origin cho url-fork. Ngoài ra khi có nhiều người tham gia 1 dự án, code của chủ dự án hay còn gọi la Product Owner - PO sẽ cập nhật liên tục.\n",
    "\n",
    "** LƯU Ý Quan trọng ** \n",
    "khi bắt tay vào thay đổi bất kì dòng code nào bạn bắt buộc phải check xem code của mình có phải là mới nhất hay chưa để tránh việc thay đổi ngoài ý muốn.\n",
    "\n",
    "Thường thì url github của PO sẽ được thêm với tên là upstream. Ở máy tính cá nhân phải luôn tồn tại 2 remote add là upstream của PO và origin của fork.\n",
    "bạn có thể check được số url mà mình remote bằng lệnh:\n",
    "git remote -v.\n",
    "\n",
    "câu lệnh để lấy toàn bộ source code mới nhất khi trên PO sẽ là.\n",
    "git pull upstream develop\n",
    "sau đó bạn phải cập nhật lên branch develop của mình bằng\n",
    "git push origin develop\n",
    "với quy trình chuẩn CI/CD của lập trình thì sẽ làm việc trên nhánh develop do đó. bạn cần xem mình đã ở branch develop hay chưa bằng cách: git status\n",
    "Git sẽ báo bạn đang ở branch nào : On branch ...\n",
    "Nếu không phải develop thì bạn sẽ: git checkout develop\n",
    "\n",
    "**Khi bắt đầu làm việc: bạn sẽ tạo ra 1 branch mới với quy tắc đặt tên branch mới như đã nêu ở phần cuối cơ bản\n",
    "git checkout -b new_commer-005**\n",
    "\n",
    "**Sau đó mới bắt đầu code. và đương nhiên lúc push lên cũng là branch new_commer-005.**\n",
    "\n",
    "Vì quy trình làm việc khá phức tạo và không thể tự fork tới dự án của chính mình nên sẽ hơi khó để hình dung.\n",
    "Tuy nhiên sẽ có 1 bài tập để tập làm quen. Bài tập:\n",
    "\n",
    "Vào trang https://github.com/devnguyenduc/simple-github và fork về github của bạn.\n",
    "tên dự án là GITHUB và số hiệu là 005 hay còn gọi là ticket GITHUB-005.\n",
    "\n",
    "Hãy thay đổi output cho chương trình main đang từ \"Hello world\" thành \"Done ticket GITHUB-005\" và push lên fork của bạn. Sau đó sẽ có 1 lý thuyết khác về việc gửi Pull Request đến repository của PO.\n",
    "\n",
    "Bài tập 2:\n",
    "\n",
    "Tự tạo 1 github repository và đăng 1 vài dòng code lên trên repository của chính mình."
   ]
  },
  {
   "cell_type": "code",
   "execution_count": null,
   "metadata": {},
   "outputs": [],
   "source": []
  }
 ],
 "metadata": {
  "kernelspec": {
   "display_name": "Python 3",
   "language": "python",
   "name": "python3"
  },
  "language_info": {
   "codemirror_mode": {
    "name": "ipython",
    "version": 3
   },
   "file_extension": ".py",
   "mimetype": "text/x-python",
   "name": "python",
   "nbconvert_exporter": "python",
   "pygments_lexer": "ipython3",
   "version": "3.7.4"
  }
 },
 "nbformat": 4,
 "nbformat_minor": 4
}
